{
 "cells": [
  {
   "cell_type": "markdown",
   "metadata": {},
   "source": [
    "# Supervised Fine tuning GPT \n"
   ]
  },
  {
   "cell_type": "code",
   "execution_count": 1,
   "metadata": {},
   "outputs": [
    {
     "data": {
      "text/plain": [
       "{'messages': [{'role': 'system',\n",
       "   'content': 'Marv is a factual chatbot that is also sarcastic.'},\n",
       "  {'role': 'user', 'content': \"What's the capital of France?\"},\n",
       "  {'role': 'assistant',\n",
       "   'content': \"Paris, as if everyone doesn't know that already.\"}]}"
      ]
     },
     "execution_count": 1,
     "metadata": {},
     "output_type": "execute_result"
    }
   ],
   "source": [
    "{\"messages\": [{\"role\": \"system\", \"content\": \"Marv is a factual chatbot that is also sarcastic.\"}, {\"role\": \"user\", \"content\": \"What's the capital of France?\"}, {\"role\": \"assistant\", \"content\": \"Paris, as if everyone doesn't know that already.\"}]}"
   ]
  },
  {
   "cell_type": "code",
   "execution_count": 7,
   "metadata": {},
   "outputs": [],
   "source": [
    "import pandas as pd\n",
    "import json\n",
    "import re\n",
    "from sklearn.metrics import classification_report\n"
   ]
  },
  {
   "cell_type": "code",
   "execution_count": 3,
   "metadata": {},
   "outputs": [],
   "source": [
    "train_path = '../Data/team_train.json'\n",
    "with open(train_path, 'r', encoding='utf-8') as file:\n",
    "    data_train = json.load(file)\n",
    "\n",
    "dev_path = '../Data/team_dev.json'\n",
    "with open(dev_path, 'r', encoding='utf-8') as file:\n",
    "    data_dev = json.load(file)\n",
    "\n",
    "test_path = '../Data/team_test.json'\n",
    "with open(test_path, 'r', encoding='utf-8') as file:\n",
    "    data_test = json.load(file)"
   ]
  },
  {
   "cell_type": "markdown",
   "metadata": {},
   "source": [
    "## Data Preprocessing"
   ]
  },
  {
   "cell_type": "code",
   "execution_count": 5,
   "metadata": {},
   "outputs": [],
   "source": [
    "def clean_text(text):\n",
    "    # 去除多余的空格和换行符，并在原始有换行符的地方加上句号\n",
    "    cleaned_text = re.sub(r'\\s*\\n+\\s*', '。', text)\n",
    "    # 去除多余的空格\n",
    "    cleaned_text = re.sub(r'\\s+', '', cleaned_text)\n",
    "    return cleaned_text"
   ]
  },
  {
   "cell_type": "markdown",
   "metadata": {},
   "source": [
    "## Fine-tuning GPT"
   ]
  },
  {
   "cell_type": "code",
   "execution_count": null,
   "metadata": {},
   "outputs": [],
   "source": [
    "def transform_data(data, output_path):\n",
    "    transformed_data = []\n",
    "    for ID, sentence1, sentence2, label in data:\n",
    "        sentence1 = clean_text(sentence1)\n",
    "        sentene2 = clean_text(sentence2)\n",
    "        transformed_data.append({\n",
    "            \"messages\": [\n",
    "                {\"role\": \"system\", \"content\": \"識別社交媒體討論線程中的攻擊和支持論證關係。每個實例包含兩條帖子，並且該數據集中有三個標籤：支持（輸出'1'）、攻擊（輸出'2'）和無關係（輸出'0'）。目標是確定第二條帖子是否支持/攻擊/無關係第一條帖子。來源是社交媒體（mobile01），語言是繁體中文。若答案是支持，則輸出數字1, 若反對則輸出2，若無關係則輸出0\"},\n",
    "                {\"role\": \"user\", \"content\": '第一句：'+sentence1+'\\n 第二句：'+ sentence2},\n",
    "                {\"role\": \"assistant\", \"content\": str(label)}\n",
    "            ]\n",
    "        })\n",
    "    with open(output_path, 'w', encoding='utf-8') as file:\n",
    "        for entry in transformed_data:\n",
    "            file.write(json.dumps(entry, ensure_ascii=False) + \"\\n\")\n",
    "\n",
    "# Paths for the transformed data\n",
    "transformed_train_path = '../Data/Task1_transformed_train.jsonl'\n",
    "transformed_dev_path = '../Data/Task1_transformed_dev.jsonl'\n",
    "\n",
    "with open('../Data/team_train.json', 'r') as file:\n",
    "    train_data = json.load(file)\n",
    "\n",
    "with open('../Data/team_dev.json', 'r') as file:\n",
    "    dev_data = json.load(file)\n",
    "# Transform the datasets\n",
    "transform_data(train_data, transformed_train_path)\n",
    "transform_data(dev_data, transformed_dev_path)"
   ]
  },
  {
   "cell_type": "code",
   "execution_count": null,
   "metadata": {},
   "outputs": [
    {
     "name": "stdout",
     "output_type": "stream",
     "text": [
      "Training file id: file-cbYExMlXBvrU9Lstq24Rqvxt\n",
      "Validation file id: file-RJCVUIZIFvqR7bt3uM12iClN\n"
     ]
    }
   ],
   "source": [
    "from openai import OpenAI\n",
    "client = OpenAI(api_key= 'your OpenAI API Key')\n",
    "\n",
    "training_file = client.files.create(\n",
    "    file=open(transformed_train_path, \"rb\"), purpose=\"fine-tune\"\n",
    ")\n",
    "validation_file = client.files.create(\n",
    "    file=open(transformed_dev_path, \"rb\"), purpose=\"fine-tune\"\n",
    ")\n",
    "\n",
    "print(\"Training file id:\", training_file.id)\n",
    "print(\"Validation file id:\", validation_file.id)\n",
    "     "
   ]
  },
  {
   "cell_type": "code",
   "execution_count": 49,
   "metadata": {},
   "outputs": [
    {
     "data": {
      "text/plain": [
       "FineTuningJob(id='ftjob-jiytJk6W4qHbPBfGoN820w6A', created_at=1717128103, error=Error(code=None, message=None, param=None), fine_tuned_model=None, finished_at=None, hyperparameters=Hyperparameters(n_epochs='auto', batch_size='auto', learning_rate_multiplier='auto'), model='gpt-3.5-turbo-0125', object='fine_tuning.job', organization_id='org-bbOoKTcdENP64l8faECYvNSy', result_files=[], status='validating_files', trained_tokens=None, training_file='file-cbYExMlXBvrU9Lstq24Rqvxt', validation_file='file-RJCVUIZIFvqR7bt3uM12iClN', user_provided_suffix='task1_classifier', seed=344356249, estimated_finish=None, integrations=[])"
      ]
     },
     "execution_count": 49,
     "metadata": {},
     "output_type": "execute_result"
    }
   ],
   "source": [
    "suffix_name = \"task1_classifier\"\n",
    "\n",
    "response = client.fine_tuning.jobs.create(\n",
    "    training_file=training_file.id,\n",
    "    validation_file=validation_file.id,\n",
    "    model=\"gpt-3.5-turbo\",\n",
    "    suffix=suffix_name,\n",
    ")\n",
    "response"
   ]
  },
  {
   "cell_type": "code",
   "execution_count": null,
   "metadata": {},
   "outputs": [
    {
     "data": {
      "text/plain": [
       "SyncCursorPage[FineTuningJobEvent](data=[FineTuningJobEvent(id='ftevent-CeXddHFZgCL64pD0DHZdtwAC', created_at=1717128021, level='error', message='Creating this fine-tuning job would exceed your hard limit, please check your plan and billing details.                     Cost of job ftjob-CzQnhWimOqFZddHI9ZRgfDMQ: USD 84.38. Quota remaining for org-bbOoKTcdENP64l8faECYvNSy: USD 18.81.', object='fine_tuning.job.event', data={'error_code': 'exceeded_quota'}, type='message'), FineTuningJobEvent(id='ftevent-RoFKc1UoYgr8y0Yb53XpRSF5', created_at=1717127934, level='info', message='Validating training file: file-cbYExMlXBvrU9Lstq24Rqvxt and validation file: file-RJCVUIZIFvqR7bt3uM12iClN', object='fine_tuning.job.event', data={}, type='message'), FineTuningJobEvent(id='ftevent-soVM3lM6KWQvmGYFVHjkH26c', created_at=1717127934, level='info', message='Created fine-tuning job: ftjob-CzQnhWimOqFZddHI9ZRgfDMQ', object='fine_tuning.job.event', data={}, type='message')], object='list', has_more=False)"
      ]
     },
     "execution_count": 50,
     "metadata": {},
     "output_type": "execute_result"
    }
   ],
   "source": [
    "jobID = response.id\n",
    "client.fine_tuning.jobs.list_events(fine_tuning_job_id= jobID, limit=10)"
   ]
  },
  {
   "cell_type": "code",
   "execution_count": null,
   "metadata": {},
   "outputs": [
    {
     "data": {
      "text/plain": [
       "FineTuningJob(id='ftjob-pdU69tixxycisyPS1mvmY6zn', created_at=1717060602, error=Error(code='exceeded_quota', message='Creating this fine-tuning job would exceed your hard limit, please check your plan and billing details.                     Cost of job ftjob-pdU69tixxycisyPS1mvmY6zn: USD 84.38. Quota remaining for org-bbOoKTcdENP64l8faECYvNSy: USD 18.81.', param=None), fine_tuned_model=None, finished_at=None, hyperparameters=Hyperparameters(n_epochs=3, batch_size=13, learning_rate_multiplier=2), model='gpt-3.5-turbo-1106', object='fine_tuning.job', organization_id='org-bbOoKTcdENP64l8faECYvNSy', result_files=[], status='failed', trained_tokens=None, training_file='file-NpJjvcJQHV570kfk1NX0WX5A', validation_file=None, user_provided_suffix='task1_classifier', seed=250590840, estimated_finish=None, integrations=[])"
      ]
     },
     "execution_count": 51,
     "metadata": {},
     "output_type": "execute_result"
    }
   ],
   "source": [
    "response = client.fine_tuning.jobs.retrieve(jobID)\n",
    "response"
   ]
  },
  {
   "cell_type": "code",
   "execution_count": 48,
   "metadata": {},
   "outputs": [
    {
     "name": "stdout",
     "output_type": "stream",
     "text": [
      "\n",
      "Fine-tuned model id: None\n"
     ]
    }
   ],
   "source": [
    "fine_tuned_model_id = response.fine_tuned_model\n",
    "print(\"\\nFine-tuned model id:\", fine_tuned_model_id)"
   ]
  },
  {
   "cell_type": "code",
   "execution_count": null,
   "metadata": {},
   "outputs": [],
   "source": [
    "results = pd.DataFrame()\n",
    "index = []\n",
    "sent1 = []\n",
    "sent2 = []\n",
    "#observed = []\n",
    "pred = []\n",
    "for ID, sentence1, sentence2 in data_test:\n",
    "    index.append(ID)\n",
    "    sent1.append(clean_text(sentence1))\n",
    "    sent2.append(clean_text(sentence2))\n",
    "    #observed.append(int(label))\n",
    "    completion = client.chat.completions.create(\n",
    "        model=fine_tuned_model_id,\n",
    "        messages=[\n",
    "            {\"role\": \"system\", \"content\": \"This is a classification task. Classify the following sentence as 'premise' than output '0' or 'claim' than output '1'.\"},\n",
    "            {\"role\": \"user\", \"content\": '第一句：'+sentence1+'\\n 第二句：'+ sentence2}\n",
    "            ]\n",
    "        )\n",
    "    if completion.choices[0].message.content == 'premise':\n",
    "        pred.append(0)\n",
    "    else:\n",
    "        pred.append(1)\n",
    "\n",
    "results['ID'] = index\n",
    "results['y_pred'] = pred\n",
    "\n",
    "# sava as .csv and submit to Kaggle\n",
    "results.to_csv('../Result/GPTfinetune_results.csv', index=None)\n"
   ]
  }
 ],
 "metadata": {
  "kernelspec": {
   "display_name": "base",
   "language": "python",
   "name": "python3"
  },
  "language_info": {
   "codemirror_mode": {
    "name": "ipython",
    "version": 3
   },
   "file_extension": ".py",
   "mimetype": "text/x-python",
   "name": "python",
   "nbconvert_exporter": "python",
   "pygments_lexer": "ipython3",
   "version": "3.11.5"
  }
 },
 "nbformat": 4,
 "nbformat_minor": 2
}
